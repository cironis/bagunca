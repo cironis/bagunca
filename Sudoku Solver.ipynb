{
 "cells": [
  {
   "cell_type": "markdown",
   "metadata": {},
   "source": [
    "### Imports"
   ]
  },
  {
   "cell_type": "code",
   "execution_count": 53,
   "metadata": {},
   "outputs": [],
   "source": [
    "import math"
   ]
  },
  {
   "cell_type": "markdown",
   "metadata": {},
   "source": [
    "### Get Input"
   ]
  },
  {
   "cell_type": "code",
   "execution_count": null,
   "metadata": {},
   "outputs": [],
   "source": [
    "sudoku_raw = input()"
   ]
  },
  {
   "cell_type": "markdown",
   "metadata": {},
   "source": [
    "### Split input"
   ]
  },
  {
   "cell_type": "code",
   "execution_count": 32,
   "metadata": {},
   "outputs": [],
   "source": [
    "sudoku_split = sudoku_raw.split(\"  \")\n",
    "\n",
    "games_and_solutions = []\n",
    "\n",
    "for pair in sudoku_split:\n",
    "    sudoku = {\"game\": \"\",\"solution\": \"\"}\n",
    "    pair_split = pair.split(' ')\n",
    "    \n",
    "    sudoku['game'] = pair_split[0]\n",
    "    sudoku['solution'] = pair_split[1]\n",
    "    \n",
    "    games_and_solutions.append(sudoku)"
   ]
  },
  {
   "cell_type": "markdown",
   "metadata": {},
   "source": [
    "### Print board"
   ]
  },
  {
   "cell_type": "code",
   "execution_count": 43,
   "metadata": {},
   "outputs": [],
   "source": [
    "def print_board(board):\n",
    "    full_board = \"\"\n",
    "    \n",
    "    for index,char in enumerate(board,1):\n",
    "            full_board += char\n",
    "            full_board += \" \"\n",
    "            if(((index%27) == 0) & (index < 80)):\n",
    "                full_board += \"\\n- - - - - - - - - -\\n\"\n",
    "                \n",
    "            elif ((index%9) == 0):\n",
    "                full_board += \"\\n\"\n",
    "            \n",
    "            elif ((index%3) == 0):\n",
    "                full_board += \"|\"\n",
    "    print(full_board)"
   ]
  },
  {
   "cell_type": "markdown",
   "metadata": {},
   "source": [
    "### Create Editable Board"
   ]
  },
  {
   "cell_type": "code",
   "execution_count": 45,
   "metadata": {},
   "outputs": [],
   "source": [
    "def create_editable_board(board):\n",
    "    board_as_list = []\n",
    "    for char in board:\n",
    "        if char == \".\":\n",
    "            board_as_list.append({})\n",
    "        else:\n",
    "            board_as_list.append({int(char)})\n",
    "            \n",
    "    return board_as_list"
   ]
  },
  {
   "cell_type": "code",
   "execution_count": 58,
   "metadata": {},
   "outputs": [],
   "source": [
    "editable_board = create_editable_board(a_board)\n",
    "\n",
    "for index, cell in enumerate(editable_board,1):\n",
    "    begining_of_the_line = 1 if (math.ceil(index/9) == 1) else 9*(math.ceil(index/9)-1)"
   ]
  },
  {
   "cell_type": "code",
   "execution_count": 75,
   "metadata": {},
   "outputs": [
    {
     "name": "stdout",
     "output_type": "stream",
     "text": [
      "01 02 03 |04 05 06 |07 08 09 \n",
      "10 11 12 |13 14 15 |16 17 18 \n",
      "19 20 21 |22 23 24 |25 26 27 \n",
      "-- -- -- -- -- -- -- -- -- --\n",
      "28 29 30 |31 32 33 |34 35 36 \n",
      "37 38 39 |40 41 42 |43 44 45 \n",
      "46 47 48 |49 50 51 |52 53 54 \n",
      "-- -- -- -- -- -- -- -- -- --\n",
      "55 56 57 |58 59 60 |61 62 63 \n",
      "64 65 66 |67 68 69 |70 71 72 \n",
      "73 74 75 |76 77 78 |79 80 81 \n",
      "\n"
     ]
    }
   ],
   "source": [
    "number_board = \"\"\n",
    "for x in range(1,82):\n",
    "    number_board += \"{:02d}\".format(x)\n",
    "    number_board += \" \"\n",
    "    if(((x%27) == 0) & (x < 80)):\n",
    "        number_board += \"\\n-- -- -- -- -- -- -- -- -- --\\n\"\n",
    "    elif ((x%9) == 0):\n",
    "        number_board += \"\\n\"\n",
    "    elif ((x%3) == 0):\n",
    "        number_board += \"|\"\n",
    "print(number_board)"
   ]
  }
 ],
 "metadata": {
  "kernelspec": {
   "display_name": "Python 3",
   "language": "python",
   "name": "python3"
  },
  "language_info": {
   "codemirror_mode": {
    "name": "ipython",
    "version": 3
   },
   "file_extension": ".py",
   "mimetype": "text/x-python",
   "name": "python",
   "nbconvert_exporter": "python",
   "pygments_lexer": "ipython3",
   "version": "3.8.3"
  }
 },
 "nbformat": 4,
 "nbformat_minor": 4
}
